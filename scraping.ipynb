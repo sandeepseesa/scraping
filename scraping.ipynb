{
 "cells": [
  {
   "cell_type": "code",
   "execution_count": 6,
   "id": "6e790a19",
   "metadata": {},
   "outputs": [],
   "source": [
    "import requests\n",
    "import csv\n",
    "from bs4 import BeautifulSoup\n",
    "import pandas as pd"
   ]
  },
  {
   "cell_type": "code",
   "execution_count": 7,
   "id": "65c5551a",
   "metadata": {},
   "outputs": [],
   "source": [
    "url = 'https://dot.ca.gov/programs/procurement-and-contracts/contracts-out-for-bid'"
   ]
  },
  {
   "cell_type": "code",
   "execution_count": 8,
   "id": "1d6888d5",
   "metadata": {},
   "outputs": [],
   "source": [
    "page = requests.get(url)"
   ]
  },
  {
   "cell_type": "code",
   "execution_count": 9,
   "id": "f0e3f247",
   "metadata": {},
   "outputs": [],
   "source": [
    "soup = BeautifulSoup(page.text, 'html.parser')"
   ]
  },
  {
   "cell_type": "code",
   "execution_count": 10,
   "id": "4665409f",
   "metadata": {},
   "outputs": [
    {
     "name": "stdout",
     "output_type": "stream",
     "text": [
      "<table class=\"table\">\n",
      "<thead>\n",
      "<tr>\n",
      "<th scope=\"col\" style=\"width: 100px;\">Event ID</th>\n",
      "<th scope=\"col\">Event Name</th>\n",
      "<th scope=\"col\" style=\"width: 250px;\">End Date</th>\n",
      "</tr>\n",
      "</thead>\n",
      "<tbody>\n",
      "<tr>\n",
      "<td><a href=\"https://caleprocure.ca.gov/event/2660/01A6228\">01A6228</a><br>\n",
      "</br></td>\n",
      "<td>Clearance and Demolition Services Fortuna, CA</td>\n",
      "<td>08/16/22 - 2:00PM PDT<br/>\n",
      "</td>\n",
      "</tr>\n",
      "<tr>\n",
      "<td><a href=\"https://caleprocure.ca.gov/event/2660/02A2151\">02A2151</a></td>\n",
      "<td>IFB Janitorial and Custodial Grounds Maintenance Services at the Secret Valley Safety Roadside Rest Area (SRRA) in Lassen County.</td>\n",
      "<td>08/16/22 - 2:00PM PDT</td>\n",
      "</tr>\n",
      "<tr>\n",
      "<td><a href=\"https://caleprocure.ca.gov/event/2660/03A3492\">03A3492</a><br/>\n",
      "</td>\n",
      "<td>SB Minor B 03A3492 - Install Cured-In-Place Pipeliners in Placer County</td>\n",
      "<td>08/19/22 - 2:15PM PDT</td>\n",
      "</tr>\n",
      "<tr>\n",
      "<td><a href=\"https://caleprocure.ca.gov/event/2660/03A3503\">03A3503</a></td>\n",
      "<td>SB Minor B 03A3503-Roadway Excavation, place HMA overside drain and HMA dike in Yolo County</td>\n",
      "<td>08/17/22 - 2:15PM PDT</td>\n",
      "</tr>\n",
      "<tr>\n",
      "<td><a href=\"https://caleprocure.ca.gov/event/2660/04A6476\">04A6476</a></td>\n",
      "<td>IFB Multiple Provider Unsheltered Resident Encampment Site Waste Removal and Cleanup or Clean Only Services in the East Bay Area</td>\n",
      "<td>08/18/22 - 2:00PM PDT</td>\n",
      "</tr>\n",
      "<tr>\n",
      "<td><a href=\"https://caleprocure.ca.gov/event/2660/04A6497\">04A6497</a><br/>\n",
      "</td>\n",
      "<td>Operated Equipment Rental Services in Alameda, Contra Costa, Sacramento, Solano, San Mateo, Lake, San Francisco, Santa Clara, Marin, Sonoma, and Napa Counties</td>\n",
      "<td>08/16/22 - 2:00PM PDT</td>\n",
      "</tr>\n",
      "<tr>\n",
      "<td><a href=\"https://caleprocure.ca.gov/event/2660/04A6498\">04A6498</a></td>\n",
      "<td>Operated Equipment Rental Services in Alameda, Contra Costa, Sacramento, Solano, San Mateo, San Francisco, Lake, Santa Clara, Marin, Sonoma, and Napa Counties</td>\n",
      "<td>08/18/22 - 2:00PM PDT</td>\n",
      "</tr>\n",
      "<tr>\n",
      "<td><a href=\"https://caleprocure.ca.gov/event/2660/04A6510\">04A6510</a></td>\n",
      "<td>IFB Janitorial Services in Santa Clara County, San Mateo County, and San Francisco County</td>\n",
      "<td>08/16/22 - 2:00PM PDT</td>\n",
      "</tr>\n",
      "<tr>\n",
      "<td><a href=\"https://caleprocure.ca.gov/event/2660/04A6524\">04A6524</a><br/>\n",
      "</td>\n",
      "<td>SB Minor B 04A6524 Install Midwest Guardrail System in Solano county</td>\n",
      "<td>08/23/22 - 2:15PM PDT</td>\n",
      "</tr>\n",
      "<tr>\n",
      "<td><a href=\"https://caleprocure.ca.gov/event/2660/06A2855\">06A2855</a></td>\n",
      "<td>IFB Trash and Recycle Pick-up, Hauling, and Disposal Services in Kern County</td>\n",
      "<td>08/16/22 - 2:00PM PDT</td>\n",
      "</tr>\n",
      "<tr>\n",
      "<td><a href=\"https://caleprocure.ca.gov/event/2660/09A0882\">09A0882</a></td>\n",
      "<td>IFB Concrete Sidewalk Repairs and Picnic Tables Replacement Services</td>\n",
      "<td>08/25/22 - 2:00PM PDT</td>\n",
      "</tr>\n",
      "<tr>\n",
      "<td><a href=\"https://caleprocure.ca.gov/event/2660/10A2418\">10A2418</a></td>\n",
      "<td>Inductive Loop Detector Repair and Replacement in Amador, Alpine, Calaveras, Mariposa, Merced, San Joaquin, Stanislaus, and Tuolumne Counties</td>\n",
      "<td>08/16/22 - 2:30PM PDT</td>\n",
      "</tr>\n",
      "<tr>\n",
      "<td><a href=\"https://caleprocure.ca.gov/event/2660/10A2440\">10A2440</a><br/>\n",
      "</td>\n",
      "<td>Trash and Recycling Collection, Hauling, and Disposal Services within Calaveras County</td>\n",
      "<td>08/18/22 - 2:00PM PDT</td>\n",
      "</tr>\n",
      "<tr>\n",
      "<td><a href=\"https://caleprocure.ca.gov/event/2660/10A2445\">10A2445</a></td>\n",
      "<td>SB Minor B 10A2445 Concrete Invert Paving and Rock Slope Protection in Mariposa County</td>\n",
      "<td>08/12/22 - 2:15PM PDT</td>\n",
      "</tr>\n",
      "<tr>\n",
      "<td><a href=\"https://caleprocure.ca.gov/event/2660/32A0541\">32A0541</a></td>\n",
      "<td>IFB Auctioneering Services to Dispose of Retired Equipment, Northern California</td>\n",
      "<td>08/16/22 - 2:00PM PDT</td>\n",
      "</tr>\n",
      "</tbody>\n",
      "</table>\n"
     ]
    }
   ],
   "source": [
    "table1 = soup.find('table')\n",
    "print(table1)"
   ]
  },
  {
   "cell_type": "code",
   "execution_count": 76,
   "id": "0edc9662",
   "metadata": {},
   "outputs": [],
   "source": [
    "headers = []\n",
    "for i in table1.find_all('th'):\n",
    " title = i.text\n",
    " headers.append(title)"
   ]
  },
  {
   "cell_type": "code",
   "execution_count": 77,
   "id": "9b8e1cc5",
   "metadata": {},
   "outputs": [],
   "source": [
    "mydata = pd.DataFrame(columns = headers)"
   ]
  },
  {
   "cell_type": "code",
   "execution_count": 78,
   "id": "8ef6662f",
   "metadata": {},
   "outputs": [
    {
     "data": {
      "text/plain": [
       "[[],\n",
       " ['01A6228\\n',\n",
       "  'Clearance and Demolition Services Fortuna, CA',\n",
       "  '08/16/22 - 2:00PM PDT\\n'],\n",
       " ['02A2151',\n",
       "  'IFB Janitorial and Custodial Grounds Maintenance Services at the Secret Valley Safety Roadside Rest Area (SRRA) in Lassen County.',\n",
       "  '08/16/22 - 2:00PM PDT'],\n",
       " ['03A3492\\n',\n",
       "  'SB Minor B 03A3492 - Install Cured-In-Place Pipeliners in Placer County',\n",
       "  '08/19/22 - 2:15PM PDT'],\n",
       " ['03A3503',\n",
       "  'SB Minor B 03A3503-Roadway Excavation, place HMA overside drain and HMA dike in Yolo County',\n",
       "  '08/17/22 - 2:15PM PDT'],\n",
       " ['04A6476',\n",
       "  'IFB Multiple Provider Unsheltered Resident Encampment Site Waste Removal and Cleanup or Clean Only Services in the East Bay Area',\n",
       "  '08/18/22 - 2:00PM PDT'],\n",
       " ['04A6497\\n',\n",
       "  'Operated Equipment Rental Services in Alameda, Contra Costa, Sacramento, Solano, San Mateo, Lake, San Francisco, Santa Clara, Marin, Sonoma, and Napa Counties',\n",
       "  '08/16/22 - 2:00PM PDT'],\n",
       " ['04A6498',\n",
       "  'Operated Equipment Rental Services in Alameda, Contra Costa, Sacramento, Solano, San Mateo, San Francisco, Lake, Santa Clara, Marin, Sonoma, and Napa Counties',\n",
       "  '08/18/22 - 2:00PM PDT'],\n",
       " ['04A6510',\n",
       "  'IFB Janitorial Services in Santa Clara County, San Mateo County, and San Francisco County',\n",
       "  '08/16/22 - 2:00PM PDT'],\n",
       " ['04A6524\\n',\n",
       "  'SB Minor B 04A6524 Install Midwest Guardrail System in Solano county',\n",
       "  '08/23/22 - 2:15PM PDT'],\n",
       " ['06A2855',\n",
       "  'IFB Trash and Recycle Pick-up, Hauling, and Disposal Services in Kern County',\n",
       "  '08/16/22 - 2:00PM PDT'],\n",
       " ['09A0882',\n",
       "  'IFB Concrete Sidewalk Repairs and Picnic Tables Replacement Services',\n",
       "  '08/25/22 - 2:00PM PDT'],\n",
       " ['10A2418',\n",
       "  'Inductive Loop Detector Repair and Replacement in Amador, Alpine, Calaveras, Mariposa, Merced, San Joaquin, Stanislaus, and Tuolumne Counties',\n",
       "  '08/16/22 - 2:30PM PDT'],\n",
       " ['10A2440\\n',\n",
       "  'Trash and Recycling Collection, Hauling, and Disposal Services within Calaveras County',\n",
       "  '08/18/22 - 2:00PM PDT'],\n",
       " ['10A2445',\n",
       "  'SB Minor B 10A2445 Concrete Invert Paving and Rock Slope Protection in Mariposa County',\n",
       "  '08/12/22 - 2:15PM PDT'],\n",
       " ['32A0541',\n",
       "  'IFB Auctioneering Services to Dispose of Retired Equipment, Northern California',\n",
       "  '08/16/22 - 2:00PM PDT']]"
      ]
     },
     "execution_count": 78,
     "metadata": {},
     "output_type": "execute_result"
    }
   ],
   "source": [
    "table_val = []\n",
    "for j in table1.find_all('tr')[0:]:\n",
    " row_data = j.find_all('td')\n",
    " row = [i.text for i in row_data]\n",
    " table_val.append(row)\n",
    "table_val"
   ]
  },
  {
   "cell_type": "code",
   "execution_count": 79,
   "id": "169460af",
   "metadata": {},
   "outputs": [],
   "source": [
    "df=pd.DataFrame(table_val,columns = headers)\n",
    "df.to_csv(\"C:\\\\Users\\\\sande\\\\Desktop\\\\table.csv\", index=False)"
   ]
  },
  {
   "cell_type": "code",
   "execution_count": 66,
   "id": "b2e8b25f",
   "metadata": {},
   "outputs": [],
   "source": []
  }
 ],
 "metadata": {
  "kernelspec": {
   "display_name": "Python 3 (ipykernel)",
   "language": "python",
   "name": "python3"
  },
  "language_info": {
   "codemirror_mode": {
    "name": "ipython",
    "version": 3
   },
   "file_extension": ".py",
   "mimetype": "text/x-python",
   "name": "python",
   "nbconvert_exporter": "python",
   "pygments_lexer": "ipython3",
   "version": "3.10.2"
  }
 },
 "nbformat": 4,
 "nbformat_minor": 5
}
